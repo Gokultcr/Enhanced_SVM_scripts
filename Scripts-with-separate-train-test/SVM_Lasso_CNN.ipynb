{
 "cells": [
  {
   "cell_type": "code",
   "execution_count": 2,
   "id": "d1543b60",
   "metadata": {},
   "outputs": [
    {
     "name": "stdout",
     "output_type": "stream",
     "text": [
      "37/37 [==============================] - 18s 467ms/step\n",
      "7/7 [==============================] - 3s 450ms/step\n"
     ]
    },
    {
     "name": "stderr",
     "output_type": "stream",
     "text": [
      "C:\\ProgramData\\Anaconda3\\lib\\site-packages\\sklearn\\linear_model\\_coordinate_descent.py:647: ConvergenceWarning: Objective did not converge. You might want to increase the number of iterations, check the scale of the features or consider increasing regularisation. Duality gap: 2.611e-01, tolerance: 1.127e-01\n",
      "  model = cd_fast.enet_coordinate_descent(\n"
     ]
    },
    {
     "data": {
      "image/png": "[encoded data removed]",
      "text/plain": [
       "<Figure size 432x288 with 1 Axes>"
      ]
     },
     "metadata": {
      "needs_background": "light"
     },
     "output_type": "display_data"
    },
    {
     "name": "stdout",
     "output_type": "stream",
     "text": [
      "Train Accuracy: 1.00\n",
      "Accuracy: 0.7819905213270142\n",
      "Precision: 0.7818601150555904\n",
      "Recall: 0.7819905213270142\n",
      "F1-score: 0.7818914070734074\n",
      "              precision    recall  f1-score   support\n",
      "\n",
      "           0       0.71      0.69      0.70        49\n",
      "           1       0.95      0.95      0.95        43\n",
      "           2       0.76      0.76      0.76        67\n",
      "           3       0.74      0.75      0.74        52\n",
      "\n",
      "    accuracy                           0.78       211\n",
      "   macro avg       0.79      0.79      0.79       211\n",
      "weighted avg       0.78      0.78      0.78       211\n",
      "\n"
     ]
    },
    {
     "data": {
      "image/png": "[encoded data removed]",
      "text/plain": [
       "<Figure size 432x288 with 2 Axes>"
      ]
     },
     "metadata": {
      "needs_background": "light"
     },
     "output_type": "display_data"
    }
   ],
   "source": [
    "import cv2\n",
    "from sklearn.model_selection import train_test_split\n",
    "from sklearn.svm import SVC\n",
    "from sklearn.metrics import accuracy_score, precision_score, recall_score, f1_score, classification_report, confusion_matrix\n",
    "from tensorflow.keras.preprocessing.image import img_to_array\n",
    "from tensorflow.keras.models import Sequential\n",
    "from tensorflow.keras.layers import Conv2D, MaxPooling2D, Flatten\n",
    "from sklearn.feature_selection import SelectFromModel\n",
    "from sklearn.preprocessing import StandardScaler\n",
    "import os\n",
    "import numpy as np\n",
    "import matplotlib.pyplot as plt\n",
    "import seaborn as sns\n",
    "from sklearn.linear_model import Lasso\n",
    "\n",
    "# Directories for training and testing datasets\n",
    "train_dir = \"D:/Gokul/segall_new_exact/Train\"\n",
    "test_dir = \"D:/Gokul/segall_new_exact/Test\"\n",
    "\n",
    "# Initialize lists for features and labels\n",
    "features_cnn_train = []\n",
    "labels_train = []\n",
    "features_cnn_test = []\n",
    "labels_test = []\n",
    "\n",
    "# Helper function to process images\n",
    "def process_images(directory, features, labels):\n",
    "    categories = os.listdir(directory)\n",
    "    for category in categories:\n",
    "        category_path = os.path.join(directory, category)\n",
    "        for img_name in os.listdir(category_path):\n",
    "            img_path = os.path.join(category_path, img_name)\n",
    "            img = cv2.imread(img_path)\n",
    "            if img is not None:\n",
    "                img = cv2.resize(img, (250, 250))\n",
    "                img_cnn = img_to_array(img)\n",
    "                features.append(img_cnn)\n",
    "                labels.append(category)\n",
    "\n",
    "# Process training and testing datasets\n",
    "process_images(train_dir, features_cnn_train, labels_train)\n",
    "process_images(test_dir, features_cnn_test, labels_test)\n",
    "\n",
    "# Encode labels to numerical values\n",
    "categories = list(set(labels_train))  # Unique categories\n",
    "label_map = {category: idx for idx, category in enumerate(categories)}\n",
    "labels_train = [label_map[label] for label in labels_train]\n",
    "labels_test = [label_map[label] for label in labels_test]\n",
    "\n",
    "# Convert features and labels to numpy arrays\n",
    "features_cnn_train = np.array(features_cnn_train)\n",
    "labels_train = np.array(labels_train)\n",
    "features_cnn_test = np.array(features_cnn_test)\n",
    "labels_test = np.array(labels_test)\n",
    "\n",
    "# Normalize the features\n",
    "features_cnn_train = features_cnn_train / 255.0\n",
    "features_cnn_test = features_cnn_test / 255.0\n",
    "\n",
    "# Create CNN model for feature extraction\n",
    "model_cnn = Sequential([\n",
    "    Conv2D(32, (3, 3), activation='relu', input_shape=(250, 250, 3)),\n",
    "    MaxPooling2D((2, 2)),\n",
    "    Conv2D(64, (3, 3), activation='relu'),\n",
    "    MaxPooling2D((2, 2)),\n",
    "    Conv2D(64, (3, 3), activation='relu'),\n",
    "    MaxPooling2D((2, 2)),\n",
    "    Conv2D(128, (3, 3), activation='relu'),\n",
    "    MaxPooling2D((2, 2)),\n",
    "    Conv2D(512, (3, 3), activation='relu'),\n",
    "    MaxPooling2D((2, 2)),\n",
    "    Flatten()\n",
    "])\n",
    "\n",
    "# Extract CNN features for training and testing datasets\n",
    "features_cnn_train = model_cnn.predict(features_cnn_train)\n",
    "features_cnn_test = model_cnn.predict(features_cnn_test)\n",
    "\n",
    "# Split training data for validation\n",
    "X_train, X_val, y_train, y_val = train_test_split(features_cnn_train, labels_train, test_size=0.2, random_state=42)\n",
    "\n",
    "# Normalize features (important before applying any model)\n",
    "scaler = StandardScaler()\n",
    "X_train_scaled = scaler.fit_transform(X_train)\n",
    "X_val_scaled = scaler.transform(X_val)\n",
    "X_test_scaled = scaler.transform(features_cnn_test)\n",
    "\n",
    "# Apply Lasso feature selection on the extracted features\n",
    "lasso = Lasso(alpha=0.01)\n",
    "lasso.fit(X_train_scaled, y_train)  # Fit Lasso on training features and labels\n",
    "\n",
    "# Select features based on Lasso coefficients\n",
    "selector = SelectFromModel(lasso, prefit=True)\n",
    "X_train_selected = selector.transform(X_train_scaled)\n",
    "X_val_selected = selector.transform(X_val_scaled)\n",
    "X_test_selected = selector.transform(X_test_scaled)\n",
    "\n",
    "# Plot the importance scores of the selected features\n",
    "importance_scores = np.abs(lasso.coef_)\n",
    "selected_indices = selector.get_support(indices=True)\n",
    "\n",
    "plt.bar(range(len(selected_indices)), importance_scores[selected_indices])\n",
    "plt.xticks(range(len(selected_indices)), selected_indices)\n",
    "plt.xlabel('Selected Feature Index')\n",
    "plt.ylabel('Importance Score')\n",
    "plt.title('Lasso Feature Importance')\n",
    "plt.show()\n",
    "\n",
    "# Train SVM on selected features\n",
    "svc_clf = SVC(random_state=0, kernel='linear')\n",
    "svc_clf.fit(X_train_selected, y_train)\n",
    "\n",
    "# Train Accuracy\n",
    "train_accuracy = svc_clf.score(X_train_selected, y_train)\n",
    "print(f\"Train Accuracy: {train_accuracy:.2f}\")\n",
    "\n",
    "# Predictions\n",
    "y_pred = svc_clf.predict(X_test_selected)\n",
    "\n",
    "# Metrics\n",
    "accuracy = accuracy_score(labels_test, y_pred)\n",
    "precision = precision_score(labels_test, y_pred, average='weighted')\n",
    "recall = recall_score(labels_test, y_pred, average='weighted')\n",
    "f1 = f1_score(labels_test, y_pred, average='weighted')\n",
    "\n",
    "print(f\"Accuracy: {accuracy}\")\n",
    "print(f\"Precision: {precision}\")\n",
    "print(f\"Recall: {recall}\")\n",
    "print(f\"F1-score: {f1}\")\n",
    "\n",
    "# Confusion Matrix and Classification Report\n",
    "print(classification_report(labels_test, y_pred))\n",
    "matrix = confusion_matrix(labels_test, y_pred)\n",
    "sns.heatmap(matrix, annot=True, fmt=\"d\", cmap=\"Blues\")\n",
    "plt.title('Confusion Matrix')\n",
    "plt.xlabel('Predicted Label')\n",
    "plt.ylabel('True Label')\n",
    "plt.show()\n"
   ]
  },
  {
   "cell_type": "code",
   "execution_count": null,
   "id": "37a4c368",
   "metadata": {},
   "outputs": [],
   "source": []
  }
 ],
 "metadata": {
  "kernelspec": {
   "display_name": "Python 3 (ipykernel)",
   "language": "python",
   "name": "python3"
  },
  "language_info": {
   "codemirror_mode": {
    "name": "ipython",
    "version": 3
   },
   "file_extension": ".py",
   "mimetype": "text/x-python",
   "name": "python",
   "nbconvert_exporter": "python",
   "pygments_lexer": "ipython3",
   "version": "3.9.12"
  }
 },
 "nbformat": 4,
 "nbformat_minor": 5
}
